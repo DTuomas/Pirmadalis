{
 "cells": [
  {
   "attachments": {},
   "cell_type": "markdown",
   "metadata": {},
   "source": [
    "## Pirma "
   ]
  },
  {
   "cell_type": "code",
   "execution_count": 1,
   "metadata": {},
   "outputs": [
    {
     "name": "stdout",
     "output_type": "stream",
     "text": [
      "diodai tranzistoriai jutikliai davikliai rezistoriai\n"
     ]
    }
   ],
   "source": [
    "produktai = {\n",
    "    'elektronika' : {'produktai' : ['diodai', 'tranzistoriai', 'jutikliai', 'davikliai', 'rezistoriai']},\n",
    "    'apsvietimas' : {'produktai' : ['led_lemputes', 'led_juostos', 'valdikliai', 'halogenines_lemputes', 'prozektoriai']},\n",
    "    'maitinimas' : {'produktai' : ['maitinimo_saltiniai', 'transformatoriai', 'itampos_keitikliai', 'ikrovikliai', 'energijos_rezervuarai']}\n",
    "}\n",
    "for kategorija, data in produktai.items():\n",
    "    print(kategorija)\n",
    "    print(data)\n",
    "while True :\n",
    "    kategorija = input('iveskite kategorija: elektronika, apsvietimas arba maitinimas')\n",
    "    if kategorija == \"elektronika\":\n",
    "        print('diodai', 'tranzistoriai', 'jutikliai', 'davikliai', 'rezistoriai'),\n",
    "    if kategorija == \"apsvietimas\":\n",
    "        print('led_lemputes', 'led_juostos', 'valdikliai', 'halogenines_lemputes', 'prozektoriai'),\n",
    "    if kategorija == \"maitinimas\":\n",
    "        print('maitinimo_saltiniai', 'transformatoriai', 'itampos_keitikliai', 'ikrovikliai', 'energijos_rezervuarai')\n",
    "\n",
    "\n",
    "    #while True:\n",
    "   ## x = input('iveskite ka nors, arba x kad iseiti: ')\n",
    "    #if x == \"x\":\n",
    "        #break\n",
    "    #print(x)\n",
    "\n",
    "\n",
    "\n"
   ]
  }
 ],
 "metadata": {
  "kernelspec": {
   "display_name": "venv",
   "language": "python",
   "name": "python3"
  },
  "language_info": {
   "codemirror_mode": {
    "name": "ipython",
    "version": 3
   },
   "file_extension": ".py",
   "mimetype": "text/x-python",
   "name": "python",
   "nbconvert_exporter": "python",
   "pygments_lexer": "ipython3",
   "version": "3.10.9"
  },
  "orig_nbformat": 4,
  "vscode": {
   "interpreter": {
    "hash": "6595f7d358a244dac90f593860b56a98c7a33cf65bcbd503aef1a7dea40bc1fb"
   }
  }
 },
 "nbformat": 4,
 "nbformat_minor": 2
}
