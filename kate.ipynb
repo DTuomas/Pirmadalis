{
 "cells": [
  {
   "cell_type": "code",
   "execution_count": 1,
   "metadata": {},
   "outputs": [],
   "source": [
    "class Kate:\n",
    "    def __init__(self, spalva, kojos):\n",
    "        self.spalva = spalva\n",
    "        self.kojos = kojos\n"
   ]
  },
  {
   "cell_type": "code",
   "execution_count": 2,
   "metadata": {},
   "outputs": [],
   "source": [
    "kate1 = Kate(\"balta\", 4)\n",
    "kate2 = Kate(\"juoda\", 3)"
   ]
  },
  {
   "cell_type": "code",
   "execution_count": 3,
   "metadata": {},
   "outputs": [
    {
     "name": "stdout",
     "output_type": "stream",
     "text": [
      "balta\n",
      "3\n"
     ]
    }
   ],
   "source": [
    "print(kate1.spalva)\n",
    "print(kate2.kojos)"
   ]
  },
  {
   "cell_type": "code",
   "execution_count": 4,
   "metadata": {},
   "outputs": [
    {
     "name": "stdout",
     "output_type": "stream",
     "text": [
      "4\n",
      "4\n"
     ]
    }
   ],
   "source": [
    "kate2.kojos = 4\n",
    "print(kate1.kojos)\n",
    "print(kate2.kojos)"
   ]
  },
  {
   "cell_type": "code",
   "execution_count": 5,
   "metadata": {},
   "outputs": [],
   "source": [
    "class Kate:\n",
    "    def __init__(self, spalva, kojos):\n",
    "        self.spalva = spalva\n",
    "        self.kojos = kojos\n",
    "\n",
    "\n",
    "    def miaukseti(self):\n",
    "        print(\"Miau\")"
   ]
  },
  {
   "cell_type": "code",
   "execution_count": 6,
   "metadata": {},
   "outputs": [
    {
     "name": "stdout",
     "output_type": "stream",
     "text": [
      "Miau\n"
     ]
    }
   ],
   "source": [
    "kate1 = Kate(\"pilka\", 4)\n",
    "kate1.miaukseti()"
   ]
  },
  {
   "cell_type": "code",
   "execution_count": 7,
   "metadata": {},
   "outputs": [],
   "source": [
    "class Kate:\n",
    "    def __init__(self, spalva, kojos):\n",
    "        self.spalva = spalva\n",
    "        self.kojos = kojos\n",
    "\n",
    "    def _judinti_kojas(self):\n",
    "        pass\n",
    "\n",
    "    def _ziureti_kur_begi(self):\n",
    "        pass\n",
    "\n",
    "    def begti(self):\n",
    "        self._judinti_kojas()\n",
    "        self._ziureti_kur_begi()\n",
    "        print(\"Bėgu\")"
   ]
  },
  {
   "cell_type": "code",
   "execution_count": 8,
   "metadata": {},
   "outputs": [
    {
     "name": "stdout",
     "output_type": "stream",
     "text": [
      "Bėgu\n"
     ]
    }
   ],
   "source": [
    "muza = Kate(\"pilka\", 4)\n",
    "muza.begti()"
   ]
  },
  {
   "cell_type": "code",
   "execution_count": 9,
   "metadata": {},
   "outputs": [],
   "source": [
    "class Kate:\n",
    "    def __init__(self, spalva = \"juoda\", kojos = 3):\n",
    "        self.spalva = spalva\n",
    "        self.kojos = kojos"
   ]
  },
  {
   "cell_type": "code",
   "execution_count": 10,
   "metadata": {},
   "outputs": [
    {
     "name": "stdout",
     "output_type": "stream",
     "text": [
      "pilka 4\n"
     ]
    }
   ],
   "source": [
    "kate3 = Kate(\"pilka\", 4)\n",
    "print(kate3.spalva, kate3.kojos)"
   ]
  },
  {
   "cell_type": "code",
   "execution_count": 11,
   "metadata": {},
   "outputs": [
    {
     "name": "stdout",
     "output_type": "stream",
     "text": [
      "juoda 3\n"
     ]
    }
   ],
   "source": [
    "kate4 = Kate()\n",
    "print(kate4.spalva, kate4.kojos)"
   ]
  },
  {
   "cell_type": "code",
   "execution_count": 12,
   "metadata": {},
   "outputs": [],
   "source": [
    "class Kate:\n",
    "    def __init__(self, spalva, kojos):\n",
    "        self.spalva = spalva\n",
    "        self.kojos = kojos\n",
    "\n",
    "    def miaukseti(self, zinute = \"Miau\", kiekis = 1):\n",
    "        print(zinute * kiekis)"
   ]
  },
  {
   "cell_type": "code",
   "execution_count": 13,
   "metadata": {},
   "outputs": [
    {
     "name": "stdout",
     "output_type": "stream",
     "text": [
      "Miau\n",
      "None\n"
     ]
    }
   ],
   "source": [
    "kate5 = Kate(\"Juoda\", 4)\n",
    "\n",
    "print(kate5.miaukseti())"
   ]
  },
  {
   "cell_type": "code",
   "execution_count": 14,
   "metadata": {},
   "outputs": [
    {
     "name": "stdout",
     "output_type": "stream",
     "text": [
      "MurrrrMurrrrMurrrrMurrrrMurrrr\n",
      "None\n"
     ]
    }
   ],
   "source": [
    "print(kate5.miaukseti(\"Murrrr\", 5))"
   ]
  },
  {
   "cell_type": "code",
   "execution_count": 15,
   "metadata": {},
   "outputs": [],
   "source": [
    "class Kate:\n",
    "    def __init__(self, spalva, kojos):\n",
    "        self.spalva = spalva\n",
    "        self.kojos = kojos"
   ]
  },
  {
   "cell_type": "code",
   "execution_count": 16,
   "metadata": {},
   "outputs": [
    {
     "name": "stdout",
     "output_type": "stream",
     "text": [
      "<__main__.Kate object at 0x00000161853767D0>\n"
     ]
    }
   ],
   "source": [
    "kate5 = Kate(\"Juoda\", 4)\n",
    "print(kate5)"
   ]
  },
  {
   "cell_type": "code",
   "execution_count": 17,
   "metadata": {},
   "outputs": [],
   "source": [
    "class Kate:\n",
    "    def __init__(self, spalva, kojos):\n",
    "        self.spalva = spalva\n",
    "        self.kojos = kojos\n",
    "\n",
    "    def __str__(self):\n",
    "        return f\"Spalva: {self.spalva}, kojos: {self.kojos}\""
   ]
  },
  {
   "cell_type": "code",
   "execution_count": 18,
   "metadata": {},
   "outputs": [
    {
     "name": "stdout",
     "output_type": "stream",
     "text": [
      "Spalva: Juoda, kojos: 4\n"
     ]
    }
   ],
   "source": [
    "kate5 = Kate(\"Juoda\", 4)\n",
    "print(kate5)"
   ]
  },
  {
   "cell_type": "code",
   "execution_count": 19,
   "metadata": {},
   "outputs": [
    {
     "name": "stdout",
     "output_type": "stream",
     "text": [
      "<class 'str'>\n",
      "1518358216608\n",
      "Sveikas, pasauli\n",
      "['Sveikas,', 'pasauli']\n",
      "SVEIKAS, PASAULI\n"
     ]
    }
   ],
   "source": [
    "pasisveikinimas = \"Sveikas, pasauli\"\n",
    "\n",
    "# Objekto tipas, pavadinimas\n",
    "print(type(pasisveikinimas))\n",
    "\n",
    "# <class 'str'>\n",
    "\n",
    "\n",
    "# Vieta darbinėje atmintyje\n",
    "print(id(pasisveikinimas))\n",
    "\n",
    "# 2053418975424\n",
    "\n",
    "\n",
    "# Reikšmė\n",
    "print(pasisveikinimas)\n",
    "\n",
    "# Sveikas, pasauli\n",
    "\n",
    "\n",
    "print(pasisveikinimas.split())\n",
    "\n",
    "# ['Sveikas,', 'pasauli']\n",
    "\n",
    "\n",
    "print(pasisveikinimas.upper())\n",
    "\n",
    "# SVEIKAS, PASAULI"
   ]
  },
  {
   "cell_type": "code",
   "execution_count": 20,
   "metadata": {},
   "outputs": [
    {
     "name": "stdout",
     "output_type": "stream",
     "text": [
      "Juoda 4 1\n",
      "Balta 4 2\n",
      "Pilka 4 3\n"
     ]
    }
   ],
   "source": [
    "class Kate:\n",
    "    def __init__(self, spalva, kojos, akys):\n",
    "        self.spalva = spalva\n",
    "        self.kojos = kojos\n",
    "        self.akys = akys\n",
    "\n",
    "\n",
    "kates = []\n",
    "\n",
    "kate1 = Kate(\"Juoda\", 4, 1)\n",
    "kate2 = Kate(\"Balta\", 4, 2)\n",
    "kate3 = Kate(\"Pilka\", 4, 3)\n",
    "\n",
    "kates.append(kate1)\n",
    "kates.append(kate2)\n",
    "kates.append(kate3)\n",
    "\n",
    "for kate in kates:\n",
    "    print(kate.spalva, kate.kojos, kate.akys)"
   ]
  },
  {
   "cell_type": "code",
   "execution_count": 21,
   "metadata": {},
   "outputs": [
    {
     "name": "stdout",
     "output_type": "stream",
     "text": [
      "Katė vardu ('ryza', 2)\n"
     ]
    },
    {
     "ename": "ValueError",
     "evalue": "invalid literal for int() with base 10: ''",
     "output_type": "error",
     "traceback": [
      "\u001b[1;31m---------------------------------------------------------------------------\u001b[0m",
      "\u001b[1;31mValueError\u001b[0m                                Traceback (most recent call last)",
      "Cell \u001b[1;32mIn[21], line 22\u001b[0m\n\u001b[0;32m     19\u001b[0m kates \u001b[39m=\u001b[39m []\n\u001b[0;32m     21\u001b[0m \u001b[39mwhile\u001b[39;00m \u001b[39mTrue\u001b[39;00m:\n\u001b[1;32m---> 22\u001b[0m     pasirinkimas \u001b[39m=\u001b[39m \u001b[39mint\u001b[39;49m(\u001b[39minput\u001b[39;49m(\u001b[39m\"\u001b[39;49m\u001b[39mPasirinkite:\u001b[39;49m\u001b[39m\\n\u001b[39;49;00m\u001b[39m1 - įvesti katę\u001b[39;49m\u001b[39m\\n\u001b[39;49;00m\u001b[39m2 - peržiūrėti visas kates\u001b[39;49m\u001b[39m\\n\u001b[39;49;00m\u001b[39m3 - išeiti iš programos\u001b[39;49m\u001b[39m\\n\u001b[39;49;00m\u001b[39m\"\u001b[39;49m))\n\u001b[0;32m     23\u001b[0m     \u001b[39mif\u001b[39;00m pasirinkimas \u001b[39m==\u001b[39m \u001b[39m1\u001b[39m:\n\u001b[0;32m     24\u001b[0m         vardas \u001b[39m=\u001b[39m \u001b[39minput\u001b[39m(\u001b[39m\"\u001b[39m\u001b[39mĮveskite katės vardą\u001b[39m\u001b[39m\"\u001b[39m)\n",
      "\u001b[1;31mValueError\u001b[0m: invalid literal for int() with base 10: ''"
     ]
    }
   ],
   "source": [
    "class Kate:\n",
    "    def __init__(self, vardas, amzius, spalva=\"juoda\"):\n",
    "        # Savybės:\n",
    "        self.vardas = vardas\n",
    "        self.amzius = amzius\n",
    "        self.spalva = spalva\n",
    "\n",
    "    # Metodas:\n",
    "    def miaukseti(self, miauksejimas=\"Miau\", kartai=1):\n",
    "        print(miauksejimas * kartai)\n",
    "\n",
    "    def __str__(self):\n",
    "        return f\"Katė vardu {self.vardas, self.amzius}\"\n",
    "\n",
    "    def __repr__(self):\n",
    "        return f\"Katė vardu {self.vardas, self.amzius}\"\n",
    "\n",
    "\n",
    "kates = []\n",
    "\n",
    "while True:\n",
    "    pasirinkimas = int(input(\"Pasirinkite:\\n1 - įvesti katę\\n2 - peržiūrėti visas kates\\n3 - išeiti iš programos\\n\"))\n",
    "    if pasirinkimas == 1:\n",
    "        vardas = input(\"Įveskite katės vardą\")\n",
    "        amzius = int(input(\"Įveskite katės amžių\"))\n",
    "        spalva = input(\"Įveskite katės spalvą\")\n",
    "        kate = Kate(vardas, amzius, spalva)\n",
    "        kates.append(kate)\n",
    "    if pasirinkimas == 2:\n",
    "        for kate in kates:\n",
    "            print(kate)\n",
    "    if pasirinkimas == 3:\n",
    "        print(\"Viso gero\")\n",
    "        break"
   ]
  }
 ],
 "metadata": {
  "kernelspec": {
   "display_name": "venv",
   "language": "python",
   "name": "python3"
  },
  "language_info": {
   "codemirror_mode": {
    "name": "ipython",
    "version": 3
   },
   "file_extension": ".py",
   "mimetype": "text/x-python",
   "name": "python",
   "nbconvert_exporter": "python",
   "pygments_lexer": "ipython3",
   "version": "3.10.9 (tags/v3.10.9:1dd9be6, Dec  6 2022, 20:01:21) [MSC v.1934 64 bit (AMD64)]"
  },
  "orig_nbformat": 4,
  "vscode": {
   "interpreter": {
    "hash": "6595f7d358a244dac90f593860b56a98c7a33cf65bcbd503aef1a7dea40bc1fb"
   }
  }
 },
 "nbformat": 4,
 "nbformat_minor": 2
}
