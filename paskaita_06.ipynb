{
 "cells": [
  {
   "attachments": {},
   "cell_type": "markdown",
   "metadata": {},
   "source": [
    "### OS modulis, darbas su katalogais ir failais"
   ]
  },
  {
   "cell_type": "code",
   "execution_count": 76,
   "metadata": {},
   "outputs": [
    {
     "ename": "FileExistsError",
     "evalue": "[WinError 183] Cannot create a file when that file already exists: 'katalogas'",
     "output_type": "error",
     "traceback": [
      "\u001b[1;31m---------------------------------------------------------------------------\u001b[0m",
      "\u001b[1;31mFileExistsError\u001b[0m                           Traceback (most recent call last)",
      "Cell \u001b[1;32mIn[76], line 1\u001b[0m\n\u001b[1;32m----> 1\u001b[0m os\u001b[39m.\u001b[39;49mmkdir(\u001b[39m\"\u001b[39;49m\u001b[39mkatalogas\u001b[39;49m\u001b[39m\"\u001b[39;49m)\n",
      "\u001b[1;31mFileExistsError\u001b[0m: [WinError 183] Cannot create a file when that file already exists: 'katalogas'"
     ]
    }
   ],
   "source": [
    "os.mkdir(\"katalogas\")"
   ]
  },
  {
   "cell_type": "code",
   "execution_count": null,
   "metadata": {},
   "outputs": [
    {
     "name": "stdout",
     "output_type": "stream",
     "text": [
      "os.stat_result(st_mode=16895, st_ino=15199648742400997, st_dev=1110139349, st_nlink=1, st_uid=0, st_gid=0, st_size=0, st_atime=1672126202, st_mtime=1672126202, st_ctime=1672126202)\n"
     ]
    }
   ],
   "source": [
    "print(os.stat(\"katalogas\"))"
   ]
  },
  {
   "cell_type": "code",
   "execution_count": null,
   "metadata": {},
   "outputs": [
    {
     "name": "stdout",
     "output_type": "stream",
     "text": [
      "c:\\Users\\dtuom\\OneDrive\\Documents\\Codeacademy\\Pirmadalis\n"
     ]
    }
   ],
   "source": [
    "print(os.getcwd())"
   ]
  },
  {
   "cell_type": "code",
   "execution_count": null,
   "metadata": {},
   "outputs": [
    {
     "name": "stdout",
     "output_type": "stream",
     "text": [
      "['antrospaskaitosuzduotys.ipynb', 'antrospaskaitosuzduotys.py', 'begalinis.py', 'katalogas', 'ketvirtapaskaita.ipynb', 'labas.py', 'matematika.py', 'paieska.py', 'paieska2.py', 'paskaita01.ipynb', 'paskaita04_klaidos.ipynb', 'Paskaita2.ipynb', 'paskaita5.ipynb', 'paskaita_06.ipynb', 'primitive_ui.py', 'Uzduotis4.py', 'Uzduotis5.py', 'uzduotys.ipynb', 'venv']\n"
     ]
    }
   ],
   "source": [
    "print(os.listdir())"
   ]
  },
  {
   "cell_type": "code",
   "execution_count": null,
   "metadata": {},
   "outputs": [
    {
     "name": "stdout",
     "output_type": "stream",
     "text": [
      "1671539116.1040616\n"
     ]
    }
   ],
   "source": [
    "print(os.stat(\"paieska.py\").st_mtime)"
   ]
  },
  {
   "cell_type": "code",
   "execution_count": null,
   "metadata": {},
   "outputs": [
    {
     "name": "stdout",
     "output_type": "stream",
     "text": [
      "2022-12-20 14:25:16.104062\n"
     ]
    }
   ],
   "source": [
    "from datetime import datetime\n",
    "data = os.stat(\"paieska.py\").st_mtime\n",
    "print(datetime.fromtimestamp(data))"
   ]
  },
  {
   "cell_type": "code",
   "execution_count": null,
   "metadata": {},
   "outputs": [],
   "source": [
    "with open(\"failas.txt\", 'w') as failas:\n",
    "    failas.write(\"Sveikas, pasauli!\")"
   ]
  },
  {
   "cell_type": "code",
   "execution_count": null,
   "metadata": {},
   "outputs": [
    {
     "name": "stdout",
     "output_type": "stream",
     "text": [
      "Sveikas, pasauli!\n"
     ]
    }
   ],
   "source": [
    "with open(\"failas.txt\", 'r+') as failas:\n",
    "    print(failas.read())\n",
    "    failas.write(\"Labas rytas, pasauli!\")"
   ]
  },
  {
   "cell_type": "code",
   "execution_count": null,
   "metadata": {},
   "outputs": [
    {
     "name": "stdout",
     "output_type": "stream",
     "text": [
      "Sveikas, pasauli!Labas rytas, pasauli!\n"
     ]
    }
   ],
   "source": [
    "with open(\"failas.txt\", 'r') as failas:\n",
    "    print(failas.read())"
   ]
  },
  {
   "cell_type": "code",
   "execution_count": null,
   "metadata": {},
   "outputs": [
    {
     "ename": "UnicodeEncodeError",
     "evalue": "'charmap' codec can't encode character '\\u010c' in position 0: character maps to <undefined>",
     "output_type": "error",
     "traceback": [
      "\u001b[1;31m---------------------------------------------------------------------------\u001b[0m",
      "\u001b[1;31mUnicodeEncodeError\u001b[0m                        Traceback (most recent call last)",
      "Cell \u001b[1;32mIn[22], line 2\u001b[0m\n\u001b[0;32m      1\u001b[0m \u001b[39mwith\u001b[39;00m \u001b[39mopen\u001b[39m(\u001b[39m\"\u001b[39m\u001b[39mfailas.txt\u001b[39m\u001b[39m\"\u001b[39m, \u001b[39m'\u001b[39m\u001b[39mw\u001b[39m\u001b[39m'\u001b[39m) \u001b[39mas\u001b[39;00m failas:\n\u001b[1;32m----> 2\u001b[0m     failas\u001b[39m.\u001b[39;49mwrite(\u001b[39m\"\u001b[39;49m\u001b[39mČia yra pirmas failo sakinys\u001b[39;49m\u001b[39m\"\u001b[39;49m)\n",
      "File \u001b[1;32m~\\AppData\\Local\\Programs\\Python\\Python310\\lib\\encodings\\cp1252.py:19\u001b[0m, in \u001b[0;36mIncrementalEncoder.encode\u001b[1;34m(self, input, final)\u001b[0m\n\u001b[0;32m     18\u001b[0m \u001b[39mdef\u001b[39;00m \u001b[39mencode\u001b[39m(\u001b[39mself\u001b[39m, \u001b[39minput\u001b[39m, final\u001b[39m=\u001b[39m\u001b[39mFalse\u001b[39;00m):\n\u001b[1;32m---> 19\u001b[0m     \u001b[39mreturn\u001b[39;00m codecs\u001b[39m.\u001b[39;49mcharmap_encode(\u001b[39minput\u001b[39;49m,\u001b[39mself\u001b[39;49m\u001b[39m.\u001b[39;49merrors,encoding_table)[\u001b[39m0\u001b[39m]\n",
      "\u001b[1;31mUnicodeEncodeError\u001b[0m: 'charmap' codec can't encode character '\\u010c' in position 0: character maps to <undefined>"
     ]
    }
   ],
   "source": [
    "with open(\"failas.txt\", 'w') as failas:\n",
    "    failas.write(\"Čia yra pirmas failo sakinys\")"
   ]
  },
  {
   "cell_type": "code",
   "execution_count": null,
   "metadata": {},
   "outputs": [],
   "source": [
    "with open(\"failas.txt\", 'w', encoding=\"utf-8\") as failas:\n",
    "    failas.write(\"Čia yra pirmas failo sakinys\")"
   ]
  },
  {
   "cell_type": "code",
   "execution_count": null,
   "metadata": {},
   "outputs": [
    {
     "name": "stdout",
     "output_type": "stream",
     "text": [
      "ÄŒia yra pirmas failo sakinys\n"
     ]
    }
   ],
   "source": [
    "with open(\"failas.txt\", 'r') as failas:\n",
    "    print(failas.read())"
   ]
  },
  {
   "cell_type": "code",
   "execution_count": null,
   "metadata": {},
   "outputs": [
    {
     "name": "stdout",
     "output_type": "stream",
     "text": [
      "Čia yra pirmas failo sakinys\n"
     ]
    }
   ],
   "source": [
    "with open(\"failas.txt\", 'r', encoding=\"utf-8\") as failas:\n",
    "    print(failas.read())"
   ]
  },
  {
   "cell_type": "code",
   "execution_count": null,
   "metadata": {},
   "outputs": [],
   "source": [
    "with open(\"failas.txt\", 'w', encoding=\"utf-8\") as failas:\n",
    "    failas.write(\"Čia yra pirmas sakinys \\n\")\n",
    "\n",
    "with open(\"failas.txt\", 'w', encoding=\"utf-8\") as failas:\n",
    "    failas.write(\"Čia yra antras sakinys \\n\")"
   ]
  },
  {
   "cell_type": "code",
   "execution_count": null,
   "metadata": {},
   "outputs": [],
   "source": [
    "with open(\"failas.txt\", 'a', encoding=\"utf-8\") as failas:\n",
    "    failas.write(\"Čia yra pirmas sakinys \\n\")\n",
    "\n",
    "with open(\"failas.txt\", 'a', encoding=\"utf-8\") as failas:\n",
    "    failas.write(\"Čia yra antras sakinys \\n\")"
   ]
  },
  {
   "cell_type": "code",
   "execution_count": null,
   "metadata": {},
   "outputs": [
    {
     "name": "stdout",
     "output_type": "stream",
     "text": [
      "265\n"
     ]
    }
   ],
   "source": [
    "print(os.stat(\"paieska.py\").st_size)"
   ]
  },
  {
   "cell_type": "code",
   "execution_count": null,
   "metadata": {},
   "outputs": [],
   "source": [
    "OS.stat('paskaita06_failai.ipynb')"
   ]
  },
  {
   "cell_type": "code",
   "execution_count": null,
   "metadata": {},
   "outputs": [],
   "source": [
    "OS.stat('paskaita06_failai.ipynb').st_size"
   ]
  },
  {
   "cell_type": "code",
   "execution_count": null,
   "metadata": {},
   "outputs": [],
   "source": [
    "from datetime import datetime"
   ]
  },
  {
   "cell_type": "code",
   "execution_count": null,
   "metadata": {},
   "outputs": [
    {
     "ename": "FileNotFoundError",
     "evalue": "[WinError 2] The system cannot find the file specified: 'paskaita06_failai.ipynb'",
     "output_type": "error",
     "traceback": [
      "\u001b[1;31m---------------------------------------------------------------------------\u001b[0m",
      "\u001b[1;31mFileNotFoundError\u001b[0m                         Traceback (most recent call last)",
      "Cell \u001b[1;32mIn[6], line 1\u001b[0m\n\u001b[1;32m----> 1\u001b[0m sukurta \u001b[39m=\u001b[39m os\u001b[39m.\u001b[39;49mstat(\u001b[39m'\u001b[39;49m\u001b[39mpaskaita06_failai.ipynb\u001b[39;49m\u001b[39m'\u001b[39;49m)\u001b[39m.\u001b[39mst_ctime\n\u001b[0;32m      2\u001b[0m datetime\u001b[39m.\u001b[39mfromtimestamp(sukurta)\n",
      "\u001b[1;31mFileNotFoundError\u001b[0m: [WinError 2] The system cannot find the file specified: 'paskaita06_failai.ipynb'"
     ]
    }
   ],
   "source": [
    "sukurta = os.stat('paskaita06_failai.ipynb').st_ctime\n",
    "datetime.fromtimestamp(sukurta)"
   ]
  },
  {
   "cell_type": "code",
   "execution_count": null,
   "metadata": {},
   "outputs": [],
   "source": [
    "import os"
   ]
  },
  {
   "cell_type": "code",
   "execution_count": null,
   "metadata": {},
   "outputs": [
    {
     "name": "stdout",
     "output_type": "stream",
     "text": [
      "['DirEntry', 'F_OK', 'GenericAlias', 'Mapping', 'MutableMapping', 'O_APPEND', 'O_BINARY', 'O_CREAT', 'O_EXCL', 'O_NOINHERIT', 'O_RANDOM', 'O_RDONLY', 'O_RDWR', 'O_SEQUENTIAL', 'O_SHORT_LIVED', 'O_TEMPORARY', 'O_TEXT', 'O_TRUNC', 'O_WRONLY', 'P_DETACH', 'P_NOWAIT', 'P_NOWAITO', 'P_OVERLAY', 'P_WAIT', 'PathLike', 'R_OK', 'SEEK_CUR', 'SEEK_END', 'SEEK_SET', 'TMP_MAX', 'W_OK', 'X_OK', '_AddedDllDirectory', '_Environ', '__all__', '__builtins__', '__cached__', '__doc__', '__file__', '__loader__', '__name__', '__package__', '__spec__', '_check_methods', '_execvpe', '_exists', '_exit', '_fspath', '_get_exports_list', '_walk', '_wrap_close', 'abc', 'abort', 'access', 'add_dll_directory', 'altsep', 'chdir', 'chmod', 'close', 'closerange', 'cpu_count', 'curdir', 'defpath', 'device_encoding', 'devnull', 'dup', 'dup2', 'environ', 'error', 'execl', 'execle', 'execlp', 'execlpe', 'execv', 'execve', 'execvp', 'execvpe', 'extsep', 'fdopen', 'fsdecode', 'fsencode', 'fspath', 'fstat', 'fsync', 'ftruncate', 'get_exec_path', 'get_handle_inheritable', 'get_inheritable', 'get_terminal_size', 'getcwd', 'getcwdb', 'getenv', 'getlogin', 'getpid', 'getppid', 'isatty', 'kill', 'linesep', 'link', 'listdir', 'lseek', 'lstat', 'makedirs', 'mkdir', 'name', 'open', 'pardir', 'path', 'pathsep', 'pipe', 'popen', 'putenv', 'read', 'readlink', 'remove', 'removedirs', 'rename', 'renames', 'replace', 'rmdir', 'scandir', 'sep', 'set_handle_inheritable', 'set_inheritable', 'spawnl', 'spawnle', 'spawnv', 'spawnve', 'st', 'startfile', 'stat', 'stat_result', 'statvfs_result', 'strerror', 'supports_bytes_environ', 'supports_dir_fd', 'supports_effective_ids', 'supports_fd', 'supports_follow_symlinks', 'symlink', 'sys', 'system', 'terminal_size', 'times', 'times_result', 'truncate', 'umask', 'uname_result', 'unlink', 'unsetenv', 'urandom', 'utime', 'waitpid', 'waitstatus_to_exitcode', 'walk', 'write']\n"
     ]
    }
   ],
   "source": [
    "print(dir(os))"
   ]
  },
  {
   "cell_type": "code",
   "execution_count": null,
   "metadata": {},
   "outputs": [
    {
     "name": "stdout",
     "output_type": "stream",
     "text": [
      "<built-in function getcwd>\n"
     ]
    }
   ],
   "source": [
    "print(os.getcwd)"
   ]
  },
  {
   "cell_type": "code",
   "execution_count": null,
   "metadata": {},
   "outputs": [],
   "source": [
    "os.chdir('C:\\\\Users\\\\')"
   ]
  },
  {
   "cell_type": "code",
   "execution_count": null,
   "metadata": {},
   "outputs": [
    {
     "ename": "NameError",
     "evalue": "name 'OS' is not defined",
     "output_type": "error",
     "traceback": [
      "\u001b[1;31m---------------------------------------------------------------------------\u001b[0m",
      "\u001b[1;31mNameError\u001b[0m                                 Traceback (most recent call last)",
      "Cell \u001b[1;32mIn[8], line 2\u001b[0m\n\u001b[0;32m      1\u001b[0m \u001b[39mtry\u001b[39;00m:\n\u001b[1;32m----> 2\u001b[0m     info \u001b[39m=\u001b[39m OS\u001b[39m.\u001b[39mstat(\u001b[39m'\u001b[39m\u001b[39mmedia/katalogas\u001b[39m\u001b[39m'\u001b[39m)\n\u001b[0;32m      3\u001b[0m \u001b[39mexcept\u001b[39;00m \u001b[39mFileNotFoundError\u001b[39;00m:\n\u001b[0;32m      4\u001b[0m     OS\u001b[39m.\u001b[39mmakedirs(\u001b[39m'\u001b[39m\u001b[39mmedia/katalogas\u001b[39m\u001b[39m'\u001b[39m)  \n",
      "\u001b[1;31mNameError\u001b[0m: name 'OS' is not defined"
     ]
    }
   ],
   "source": [
    "try:\n",
    "    info = OS.stat('media/katalogas')\n",
    "except FileNotFoundError:\n",
    "    OS.makedirs('media/katalogas')  \n",
    "    info = OS.stat('media/katalogas')\n",
    "print(info)"
   ]
  },
  {
   "cell_type": "code",
   "execution_count": null,
   "metadata": {},
   "outputs": [
    {
     "name": "stdout",
     "output_type": "stream",
     "text": [
      "katalogas: c:\\Users\\dtuom\\OneDrive\\Documents\\Codeacademy\\Pirmadalis\n"
     ]
    }
   ],
   "source": [
    "BASEDIR = os.getcwd()\n",
    "print(f\"katalogas: {BASEDIR}\")"
   ]
  },
  {
   "cell_type": "code",
   "execution_count": null,
   "metadata": {},
   "outputs": [
    {
     "name": "stdout",
     "output_type": "stream",
     "text": [
      "c:\\Users\\dtuom\\OneDrive\\Documents\\Codeacademy\n"
     ]
    }
   ],
   "source": [
    "os.chdir('..')\n",
    "print(os.getcwd())"
   ]
  },
  {
   "cell_type": "code",
   "execution_count": null,
   "metadata": {},
   "outputs": [
    {
     "name": "stdout",
     "output_type": "stream",
     "text": [
      "c:\\Users\\dtuom\\OneDrive\\Documents\\Codeacademy\\Pirmadalis\n"
     ]
    }
   ],
   "source": [
    "os.chdir(BASEDIR)\n",
    "print(os.getcwd())"
   ]
  },
  {
   "attachments": {},
   "cell_type": "markdown",
   "metadata": {},
   "source": [
    "### Tekstiniu failu skaitymas/rasymas"
   ]
  },
  {
   "cell_type": "code",
   "execution_count": 117,
   "metadata": {},
   "outputs": [],
   "source": [
    "failas = open('katalogas/labas.txt' , 'w')\n",
    "failas.write('sveiki studentai')\n",
    "failas.close()"
   ]
  },
  {
   "cell_type": "code",
   "execution_count": 118,
   "metadata": {},
   "outputs": [],
   "source": [
    "with open('katalogas/labas.txt' , 'w') as failas:\n",
    "    failas.write('labas rytas is naujo\\n')\n",
    "    failas.write('labas rytas is naujausio\\n')"
   ]
  },
  {
   "cell_type": "code",
   "execution_count": 119,
   "metadata": {},
   "outputs": [
    {
     "name": "stdout",
     "output_type": "stream",
     "text": [
      "labas rytas is naujo\n",
      "labas rytas is naujausio\n",
      "\n"
     ]
    }
   ],
   "source": [
    "with open('katalogas/labas.txt' , 'r') as skaitomas:\n",
    "    tekstas = skaitomas.read()\n",
    "print(tekstas)"
   ]
  },
  {
   "cell_type": "code",
   "execution_count": 80,
   "metadata": {},
   "outputs": [
    {
     "name": "stdout",
     "output_type": "stream",
     "text": [
      "labas rytas is naujo\n",
      "labas rytas is naujausio\n",
      "\n"
     ]
    }
   ],
   "source": [
    "with open('katalogas/labas.txt' , 'a') as papildomas:\n",
    "    papildomas.write('kokia grazi diena\\n')\n",
    "print(tekstas)"
   ]
  },
  {
   "cell_type": "code",
   "execution_count": 120,
   "metadata": {},
   "outputs": [
    {
     "name": "stdout",
     "output_type": "stream",
     "text": [
      "labas rytas is naujo\n",
      "labas rytas is naujausio\n",
      "\n",
      "---\n",
      "labas rytas is naujo\n",
      "labas rytas is naujausio\n",
      "pagerinam prie to pacio ta pati faila\n",
      "\n"
     ]
    }
   ],
   "source": [
    "with open('katalogas/labas.txt' , 'r+') as failas:\n",
    "    senas = failas.read()\n",
    "    failas.write('pagerinam prie to pacio ta pati faila\\n')\n",
    "    failas.seek(0)\n",
    "    naujas = failas.read()\n",
    "print(senas)\n",
    "print('---')\n",
    "print(naujas)"
   ]
  },
  {
   "cell_type": "code",
   "execution_count": 121,
   "metadata": {},
   "outputs": [
    {
     "name": "stdout",
     "output_type": "stream",
     "text": [
      "labas super \n"
     ]
    }
   ],
   "source": [
    "with open('katalogas/labas.txt' , 'r+') as failas:\n",
    "    failas.seek(6)\n",
    "    failas.write('super')\n",
    "    failas.seek(0)\n",
    "    naujas = failas.read(12)\n",
    "print(naujas)"
   ]
  },
  {
   "cell_type": "code",
   "execution_count": 122,
   "metadata": {},
   "outputs": [
    {
     "name": "stdout",
     "output_type": "stream",
     "text": [
      "labas super is naujo\n",
      "labas rytas is naujausio\n",
      "pagerinam prie to pacio ta pati faila\n",
      "Lietuviškas reikalas, ziurim ar veikia...\n",
      "\n"
     ]
    }
   ],
   "source": [
    "with open('katalogas/labas.txt' , 'a+') as pridedamas:\n",
    "    #with open('katalogas/labas.txt' , 'w+') as pridedamas:\n",
    "  \n",
    "    pridedamas.write('Lietuviškas reikalas, ziurim ar veikia...\\n')\n",
    "    pridedamas.seek(0)\n",
    "    atnaujintas = pridedamas.read()\n",
    "print(atnaujintas)"
   ]
  },
  {
   "cell_type": "code",
   "execution_count": 106,
   "metadata": {},
   "outputs": [
    {
     "name": "stdout",
     "output_type": "stream",
     "text": [
      "-1\n",
      "labas super \n"
     ]
    }
   ],
   "source": [
    "with open('katalogas/labas.txt' , 'r+') as failas:\n",
    "    senas = failas.read()\n",
    "    kursorius = senas.find('grazi')\n",
    "    print(kursorius)\n",
    "    if kursorius > 0:\n",
    "        failas.seek(kursorius)\n",
    "        failas.write('smagi')\n",
    "        failas.seek(0)\n",
    "        naujas = failas.read()\n",
    "print(naujas)"
   ]
  },
  {
   "cell_type": "code",
   "execution_count": 123,
   "metadata": {},
   "outputs": [
    {
     "name": "stdout",
     "output_type": "stream",
     "text": [
      "labas rytelis is naujo\n",
      "labas rytas is naujausio\n",
      "pagerinam prie to pacio ta pati faila\n",
      "Lietuviškas reikalas, ziurim ar veikia...\n",
      "\n"
     ]
    }
   ],
   "source": [
    "with open('katalogas/labas.txt' , 'r') as failas:\n",
    "    senas = failas.read()\n",
    "atnaujinimas = senas.replace('super', 'rytelis')\n",
    "with open('katalogas/labas.txt', 'w+') as failas:\n",
    "    failas.write(atnaujinimas)\n",
    "    failas.seek(0)\n",
    "    naujas = failas.read()\n",
    "print(naujas)"
   ]
  },
  {
   "cell_type": "code",
   "execution_count": 124,
   "metadata": {},
   "outputs": [
    {
     "name": "stdout",
     "output_type": "stream",
     "text": [
      "labas rytelis is naujo\n",
      "\n"
     ]
    }
   ],
   "source": [
    "with open('katalogas/labas.txt', 'r') as failas:\n",
    "    eilutes = failas.readlines()\n",
    "print(eilutes[0])"
   ]
  },
  {
   "cell_type": "code",
   "execution_count": 125,
   "metadata": {},
   "outputs": [
    {
     "name": "stdout",
     "output_type": "stream",
     "text": [
      "labas rytelis is naujo\n",
      "\n",
      "labas rytas is naujausio\n",
      "\n",
      "pagerinam prie to pacio ta pati faila\n",
      "\n",
      "Lietuviškas reikalas, ziurim ar veikia...\n",
      "\n"
     ]
    }
   ],
   "source": [
    "with open('katalogas/labas.txt' , 'r') as failas:\n",
    "    for eilute in failas:\n",
    "        print(eilute)"
   ]
  },
  {
   "cell_type": "code",
   "execution_count": 128,
   "metadata": {},
   "outputs": [
    {
     "name": "stdout",
     "output_type": "stream",
     "text": [
      "1 labas rytelis is naujo\n",
      "2 labas rytas is naujausio\n",
      "3 pagerinam prie to pacio ta pati faila\n",
      "4 Lietuviškas reikalas, ziurim ar veikia...\n"
     ]
    }
   ],
   "source": [
    "with open('katalogas/labas.txt' , 'r') as failas:\n",
    "    for numeris, eilute in enumerate(failas):\n",
    "        print(numeris+1, eilute, end=\"\")"
   ]
  },
  {
   "cell_type": "code",
   "execution_count": 131,
   "metadata": {},
   "outputs": [
    {
     "name": "stdout",
     "output_type": "stream",
     "text": [
      "labas rytelis is naujo\n",
      "labas rytas is naujausio\n",
      "pagerinam prie to pacio ta pati faila\n",
      "Lietuviškas reikalas, ziurim ar veikia...\n"
     ]
    }
   ],
   "source": [
    "with open('katalogas/labas.txt' , 'r') as skaitomas:\n",
    "    with open('katalogas/kopija.txt' , 'w') as rasomas:\n",
    "        rasomas.write(skaitomas.read())\n",
    "\n",
    "with open('katalogas/labas.txt' , 'r') as tikrinamas:\n",
    "    for eilute in tikrinamas:\n",
    "        print(eilute, end=\"\")"
   ]
  },
  {
   "cell_type": "code",
   "execution_count": null,
   "metadata": {},
   "outputs": [],
   "source": [
    "with open('katalogas/pajurys.jpg', 'rb') as skaitomas:\n",
    "    with open('katalogas/donatas.png' , 'wb') as rasomas:\n",
    "        for eilute in skaitomas:\n",
    "            rasomas.write(eilute)"
   ]
  },
  {
   "attachments": {},
   "cell_type": "markdown",
   "metadata": {},
   "source": [
    "### Pickle failai"
   ]
  }
 ],
 "metadata": {
  "kernelspec": {
   "display_name": "venv",
   "language": "python",
   "name": "python3"
  },
  "language_info": {
   "codemirror_mode": {
    "name": "ipython",
    "version": 3
   },
   "file_extension": ".py",
   "mimetype": "text/x-python",
   "name": "python",
   "nbconvert_exporter": "python",
   "pygments_lexer": "ipython3",
   "version": "3.10.9 (tags/v3.10.9:1dd9be6, Dec  6 2022, 20:01:21) [MSC v.1934 64 bit (AMD64)]"
  },
  "orig_nbformat": 4,
  "vscode": {
   "interpreter": {
    "hash": "6595f7d358a244dac90f593860b56a98c7a33cf65bcbd503aef1a7dea40bc1fb"
   }
  }
 },
 "nbformat": 4,
 "nbformat_minor": 2
}
