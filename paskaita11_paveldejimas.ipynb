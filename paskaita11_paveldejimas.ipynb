{
 "cells": [
  {
   "cell_type": "code",
   "execution_count": 1,
   "metadata": {},
   "outputs": [],
   "source": [
    "class Gyvunas():\n",
    "    def __init__(self, vardas, spalva, kojos, amzius=0):\n",
    "        self.vardas = vardas\n",
    "        self.spalva = spalva\n",
    "        self.kojos = kojos\n",
    "        self.amzius = amzius \n",
    "    def __str__(self) -> str:\n",
    "        return f\"{self.__class__.__name__} {self.vardas}, spalva: {self.spalva}, {self.kojos}--kojis, {self.amzius} metu\"\n",
    "    def begti(self):\n",
    "        print(\"begu\")\n"
   ]
  },
  {
   "cell_type": "code",
   "execution_count": 2,
   "metadata": {},
   "outputs": [
    {
     "name": "stdout",
     "output_type": "stream",
     "text": [
      "Gyvunas Turbo, spalva: Zalias, 4--kojis, 3 metu\n",
      "begu\n"
     ]
    }
   ],
   "source": [
    "vezlys = Gyvunas(\"Turbo\", \"Zalias\", 4, 3)\n",
    "print(vezlys)\n",
    "vezlys.begti()"
   ]
  },
  {
   "cell_type": "code",
   "execution_count": 3,
   "metadata": {},
   "outputs": [],
   "source": [
    "class Kate(Gyvunas):\n",
    "    def miaukti(self):\n",
    "        print(\"miau\")"
   ]
  },
  {
   "cell_type": "code",
   "execution_count": 4,
   "metadata": {},
   "outputs": [
    {
     "name": "stdout",
     "output_type": "stream",
     "text": [
      "Kate Murklys, spalva: Juodai baltas, 4--kojis, 11 metu\n",
      "miau\n",
      "begu\n"
     ]
    }
   ],
   "source": [
    "murklys = Kate(\"Murklys\", \"Juodai baltas\", 4, 11)\n",
    "print(murklys)\n",
    "murklys.miaukti()\n",
    "murklys.begti()"
   ]
  },
  {
   "cell_type": "code",
   "execution_count": 17,
   "metadata": {},
   "outputs": [],
   "source": [
    "class Vezlys(Gyvunas):\n",
    "    def begti(self):\n",
    "        print(\"einu letai.. ai ne, \", end=\"\")\n",
    "        super().begti()\n",
    "\n",
    "    def __init__(self, vardas: str, spalva: str, kojos=4, amzius=0, namo_turis_mm3=400):\n",
    "        super().__init__(vardas, spalva, kojos, amzius)\n",
    "        self.namo_turis_mm3 = namo_turis_mm3"
   ]
  },
  {
   "cell_type": "code",
   "execution_count": 18,
   "metadata": {},
   "outputs": [
    {
     "name": "stdout",
     "output_type": "stream",
     "text": [
      "Vezlys Turbo, spalva: Zalias, 4--kojis, 3 metu\n",
      "einu letai.. ai ne, begu\n",
      "400\n"
     ]
    }
   ],
   "source": [
    "vezlys = Vezlys(\"Turbo\", \"Zalias\", 4 , amzius=3)\n",
    "print(vezlys)\n",
    "vezlys.begti()\n",
    "print(vezlys.namo_turis_mm3)"
   ]
  },
  {
   "cell_type": "code",
   "execution_count": 21,
   "metadata": {},
   "outputs": [],
   "source": [
    "class Voras(Gyvunas):\n",
    "    def begti(self):\n",
    "        print(\"ropoju\")\n",
    "\n",
    "    def __init__(self, vardas: str, spalva: str, kojos=6, amzius=0):\n",
    "        super().__init__(vardas, spalva, kojos, amzius)"
   ]
  },
  {
   "cell_type": "code",
   "execution_count": 22,
   "metadata": {},
   "outputs": [
    {
     "name": "stdout",
     "output_type": "stream",
     "text": [
      "Voras Musiu Siaubas, spalva: Juodas, 6--kojis, 0 metu\n",
      "ropoju\n"
     ]
    }
   ],
   "source": [
    "musinis = Voras(\"Musiu Siaubas\", \"Juodas\")\n",
    "print(musinis)\n",
    "musinis.begti()"
   ]
  }
 ],
 "metadata": {
  "kernelspec": {
   "display_name": "venv",
   "language": "python",
   "name": "python3"
  },
  "language_info": {
   "codemirror_mode": {
    "name": "ipython",
    "version": 3
   },
   "file_extension": ".py",
   "mimetype": "text/x-python",
   "name": "python",
   "nbconvert_exporter": "python",
   "pygments_lexer": "ipython3",
   "version": "3.10.9"
  },
  "orig_nbformat": 4,
  "vscode": {
   "interpreter": {
    "hash": "6595f7d358a244dac90f593860b56a98c7a33cf65bcbd503aef1a7dea40bc1fb"
   }
  }
 },
 "nbformat": 4,
 "nbformat_minor": 2
}
