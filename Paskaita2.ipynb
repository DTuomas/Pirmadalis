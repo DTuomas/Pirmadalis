{
 "cells": [
  {
   "attachments": {},
   "cell_type": "markdown",
   "metadata": {},
   "source": [
    "## Sarasai"
   ]
  },
  {
   "cell_type": "code",
   "execution_count": 1,
   "metadata": {},
   "outputs": [
    {
     "data": {
      "text/plain": [
       "[]"
      ]
     },
     "execution_count": 1,
     "metadata": {},
     "output_type": "execute_result"
    }
   ],
   "source": [
    "tuscias = []\n",
    "tuscias"
   ]
  },
  {
   "cell_type": "code",
   "execution_count": 2,
   "metadata": {},
   "outputs": [
    {
     "data": {
      "text/plain": [
       "[5, 7, 3, 1, 11, 9, 3, 13]"
      ]
     },
     "execution_count": 2,
     "metadata": {},
     "output_type": "execute_result"
    }
   ],
   "source": [
    "sarasas = [5, 7, 3, 1, 11, 9, 3, 13]\n",
    "sarasas"
   ]
  },
  {
   "cell_type": "code",
   "execution_count": 3,
   "metadata": {},
   "outputs": [
    {
     "data": {
      "text/plain": [
       "[5, 7, 3, 1, 11, 9, 3, 13]"
      ]
     },
     "execution_count": 3,
     "metadata": {},
     "output_type": "execute_result"
    }
   ],
   "source": [
    "zodziai = [\"labas\" , \"rytas\" , \"studentai\"]\n",
    "sarasas"
   ]
  },
  {
   "cell_type": "code",
   "execution_count": 4,
   "metadata": {},
   "outputs": [
    {
     "data": {
      "text/plain": [
       "' '"
      ]
     },
     "execution_count": 4,
     "metadata": {},
     "output_type": "execute_result"
    }
   ],
   "source": [
    "tarpas = \" \"\n",
    "tarpas"
   ]
  },
  {
   "cell_type": "code",
   "execution_count": 5,
   "metadata": {},
   "outputs": [
    {
     "data": {
      "text/plain": [
       "'labas rytas studentai'"
      ]
     },
     "execution_count": 5,
     "metadata": {},
     "output_type": "execute_result"
    }
   ],
   "source": [
    "tarpas = \" \"\n",
    "tarpas.join(zodziai)"
   ]
  },
  {
   "cell_type": "code",
   "execution_count": 6,
   "metadata": {},
   "outputs": [
    {
     "data": {
      "text/plain": [
       "1"
      ]
     },
     "execution_count": 6,
     "metadata": {},
     "output_type": "execute_result"
    }
   ],
   "source": [
    "#ketvirtas saraso elementas\n",
    "sarasas[3]"
   ]
  },
  {
   "cell_type": "code",
   "execution_count": 8,
   "metadata": {},
   "outputs": [
    {
     "data": {
      "text/plain": [
       "'rytas'"
      ]
     },
     "execution_count": 8,
     "metadata": {},
     "output_type": "execute_result"
    }
   ],
   "source": [
    "zodziai[1]"
   ]
  },
  {
   "cell_type": "code",
   "execution_count": 10,
   "metadata": {},
   "outputs": [
    {
     "data": {
      "text/plain": [
       "[5, 7, 3, 1, 11, 9, 3, 13, 12, 12]"
      ]
     },
     "execution_count": 10,
     "metadata": {},
     "output_type": "execute_result"
    }
   ],
   "source": [
    "#i sarasa pridedam 12\n",
    "sarasas.append(12)\n",
    "sarasas"
   ]
  },
  {
   "cell_type": "code",
   "execution_count": 12,
   "metadata": {},
   "outputs": [
    {
     "data": {
      "text/plain": [
       "['labas', 'vakaras', 'studentai']"
      ]
     },
     "execution_count": 12,
     "metadata": {},
     "output_type": "execute_result"
    }
   ],
   "source": [
    "#saraso 2 elementa pakeiciam i vakaras, (python skaiciuoja nuo 0)\n",
    "zodziai[1] = \"vakaras\"\n",
    "zodziai"
   ]
  },
  {
   "cell_type": "code",
   "execution_count": 13,
   "metadata": {},
   "outputs": [
    {
     "data": {
      "text/plain": [
       "[5, 7, 3, 1, 9, 9, 3, 13, 12, 12]"
      ]
     },
     "execution_count": 13,
     "metadata": {},
     "output_type": "execute_result"
    }
   ],
   "source": [
    "sarasas[4] = 9\n",
    "sarasas"
   ]
  },
  {
   "cell_type": "code",
   "execution_count": 16,
   "metadata": {},
   "outputs": [
    {
     "data": {
      "text/plain": [
       "7"
      ]
     },
     "execution_count": 16,
     "metadata": {},
     "output_type": "execute_result"
    }
   ],
   "source": [
    "#randam kur yra mus dominantis elementas\n",
    "sarasas.index(13)"
   ]
  },
  {
   "cell_type": "code",
   "execution_count": 17,
   "metadata": {},
   "outputs": [
    {
     "data": {
      "text/plain": [
       "13"
      ]
     },
     "execution_count": 17,
     "metadata": {},
     "output_type": "execute_result"
    }
   ],
   "source": [
    "# istraukiam 8 elementa is saraso\n",
    "sarasas.pop(7)"
   ]
  },
  {
   "cell_type": "code",
   "execution_count": 18,
   "metadata": {},
   "outputs": [
    {
     "data": {
      "text/plain": [
       "9"
      ]
     },
     "execution_count": 18,
     "metadata": {},
     "output_type": "execute_result"
    }
   ],
   "source": [
    "# saraso ilgis\n",
    "len(sarasas)"
   ]
  },
  {
   "cell_type": "code",
   "execution_count": 19,
   "metadata": {},
   "outputs": [
    {
     "data": {
      "text/plain": [
       "28"
      ]
     },
     "execution_count": 19,
     "metadata": {},
     "output_type": "execute_result"
    }
   ],
   "source": [
    "sakinys = \"o jau pietu pertrauka ateina\"\n",
    "len(sakinys)"
   ]
  },
  {
   "cell_type": "code",
   "execution_count": 20,
   "metadata": {},
   "outputs": [],
   "source": [
    "zodziai = sakinys.split()"
   ]
  },
  {
   "cell_type": "code",
   "execution_count": 22,
   "metadata": {},
   "outputs": [
    {
     "ename": "SyntaxError",
     "evalue": "invalid syntax (679827616.py, line 1)",
     "output_type": "error",
     "traceback": [
      "\u001b[1;36m  Cell \u001b[1;32mIn[22], line 1\u001b[1;36m\u001b[0m\n\u001b[1;33m    1 zodziai(3)\u001b[0m\n\u001b[1;37m      ^\u001b[0m\n\u001b[1;31mSyntaxError\u001b[0m\u001b[1;31m:\u001b[0m invalid syntax\n"
     ]
    }
   ],
   "source": [
    "1 zodziai(3)"
   ]
  },
  {
   "attachments": {},
   "cell_type": "markdown",
   "metadata": {},
   "source": [
    "## Zodynai"
   ]
  },
  {
   "cell_type": "code",
   "execution_count": 23,
   "metadata": {},
   "outputs": [
    {
     "data": {
      "text/plain": [
       "dict"
      ]
     },
     "execution_count": 23,
     "metadata": {},
     "output_type": "execute_result"
    }
   ],
   "source": [
    "tz = {}\n",
    "type(tz)"
   ]
  },
  {
   "cell_type": "code",
   "execution_count": 25,
   "metadata": {},
   "outputs": [
    {
     "data": {
      "text/plain": [
       "{'kava': 7.99, 'sausainiai': 2.19, 'apelsinai': 1.59, 'ananasas': 3.06}"
      ]
     },
     "execution_count": 25,
     "metadata": {},
     "output_type": "execute_result"
    }
   ],
   "source": [
    "krepselis = {\n",
    "    \"kava\": 7.99,\n",
    "    \"sausainiai\": 2.19,\n",
    "    \"apelsinai\": 1.59,\n",
    "    \"ananasas\": 3.06,\n",
    "}\n",
    "krepselis"
   ]
  },
  {
   "cell_type": "code",
   "execution_count": 26,
   "metadata": {},
   "outputs": [
    {
     "data": {
      "text/plain": [
       "7.99"
      ]
     },
     "execution_count": 26,
     "metadata": {},
     "output_type": "execute_result"
    }
   ],
   "source": [
    "krepselis['kava']"
   ]
  },
  {
   "cell_type": "code",
   "execution_count": 27,
   "metadata": {},
   "outputs": [
    {
     "data": {
      "text/plain": [
       "{'kava': 7.99, 'sausainiai': 2.19, 'apelsinai': 1.59, 'ananasas': 3.57}"
      ]
     },
     "execution_count": 27,
     "metadata": {},
     "output_type": "execute_result"
    }
   ],
   "source": [
    "# keisti zodyno irasa\n",
    "krepselis['ananasas'] = 3.57\n",
    "krepselis"
   ]
  },
  {
   "cell_type": "code",
   "execution_count": 28,
   "metadata": {},
   "outputs": [
    {
     "data": {
      "text/plain": [
       "{'kava': 7.99,\n",
       " 'sausainiai': 2.19,\n",
       " 'apelsinai': 1.59,\n",
       " 'ananasas': 3.57,\n",
       " 'vanduo': 0.29}"
      ]
     },
     "execution_count": 28,
     "metadata": {},
     "output_type": "execute_result"
    }
   ],
   "source": [
    "# pridedam zodyno irasa\n",
    "krepselis['vanduo'] = 0.29\n",
    "krepselis"
   ]
  },
  {
   "cell_type": "code",
   "execution_count": 29,
   "metadata": {},
   "outputs": [
    {
     "data": {
      "text/plain": [
       "{'kava': 7.99, 'apelsinai': 1.59, 'ananasas': 3.57, 'vanduo': 0.29}"
      ]
     },
     "execution_count": 29,
     "metadata": {},
     "output_type": "execute_result"
    }
   ],
   "source": [
    "# trinam zodyno irasa\n",
    "del krepselis['sausainiai']\n",
    "krepselis"
   ]
  },
  {
   "cell_type": "code",
   "execution_count": 35,
   "metadata": {},
   "outputs": [
    {
     "data": {
      "text/plain": [
       "{'kava': 7.99,\n",
       " 'apelsinai': 1.59,\n",
       " 'ananasas': 3.57,\n",
       " 'vanduo': 0.29,\n",
       " 'chino\\x07i': 2.3,\n",
       " \"chino'ai\": 2.3}"
      ]
     },
     "execution_count": 35,
     "metadata": {},
     "output_type": "execute_result"
    }
   ],
   "source": [
    "krepselis['chino\\'ai'] = 2.30\n",
    "krepselis"
   ]
  },
  {
   "cell_type": "code",
   "execution_count": 38,
   "metadata": {},
   "outputs": [
    {
     "data": {
      "text/plain": [
       "{'kava': 7.99,\n",
       " 'apelsinai': 1.59,\n",
       " 'ananasas': 3.57,\n",
       " 'vanduo': 0.29,\n",
       " 'chino\\x07i': 2.3,\n",
       " \"chino'ai\": 2.3,\n",
       " 'gerimas \"vytautas\"': 1.05}"
      ]
     },
     "execution_count": 38,
     "metadata": {},
     "output_type": "execute_result"
    }
   ],
   "source": [
    "krepselis['gerimas \"vytautas\"'] = 1.05\n",
    "krepselis"
   ]
  },
  {
   "cell_type": "code",
   "execution_count": 45,
   "metadata": {},
   "outputs": [
    {
     "data": {
      "text/plain": [
       "{'kava': 7.99,\n",
       " 'apelsinai': 1.59,\n",
       " 'ananasas': 3.57,\n",
       " 'vanduo': 0.29,\n",
       " 'gerimas \"vytautas\"': 1.05}"
      ]
     },
     "execution_count": 45,
     "metadata": {},
     "output_type": "execute_result"
    }
   ],
   "source": [
    "del krepselis[\"chino'ai\"]\n",
    "krepselis "
   ]
  },
  {
   "attachments": {},
   "cell_type": "markdown",
   "metadata": {},
   "source": [
    "## Ciklai"
   ]
  },
  {
   "attachments": {},
   "cell_type": "markdown",
   "metadata": {},
   "source": [
    "### Sarasai"
   ]
  },
  {
   "cell_type": "code",
   "execution_count": 47,
   "metadata": {},
   "outputs": [
    {
     "name": "stdout",
     "output_type": "stream",
     "text": [
      "5\n",
      "7\n",
      "3\n",
      "1\n",
      "9\n",
      "9\n",
      "3\n",
      "12\n",
      "12\n"
     ]
    }
   ],
   "source": [
    "for skaicius in sarasas:\n",
    "    print(skaicius)"
   ]
  },
  {
   "cell_type": "code",
   "execution_count": 50,
   "metadata": {},
   "outputs": [
    {
     "name": "stdout",
     "output_type": "stream",
     "text": [
      "tarpine: 5\n",
      "tarpine: 12\n",
      "tarpine: 15\n",
      "tarpine: 16\n",
      "tarpine: 25\n",
      "tarpine: 34\n",
      "tarpine: 37\n",
      "tarpine: 49\n",
      "tarpine: 61\n",
      "galutine suma: 61\n"
     ]
    }
   ],
   "source": [
    "suma = 0\n",
    "for skaicius in sarasas:\n",
    "    suma += skaicius\n",
    "    print('tarpine:' , suma)\n",
    "print('galutine suma:' , suma)"
   ]
  },
  {
   "cell_type": "code",
   "execution_count": 54,
   "metadata": {},
   "outputs": [
    {
     "name": "stdout",
     "output_type": "stream",
     "text": [
      "kava: 7.99\n",
      "apelsinai: 1.59\n",
      "ananasas: 3.57\n",
      "vanduo: 0.29\n",
      "gerimas \"vytautas\": 1.05\n",
      "viso: 14.49\n"
     ]
    }
   ],
   "source": [
    "# ciklas per visus zodyno vienetu elementus\n",
    "suma = 0\n",
    "for preke, kaina in krepselis.items():\n",
    "    print(f\"{preke}: {kaina}\")\n",
    "    suma += kaina\n",
    "print(f\"viso: {suma}\")    "
   ]
  },
  {
   "cell_type": "code",
   "execution_count": 52,
   "metadata": {},
   "outputs": [
    {
     "name": "stdout",
     "output_type": "stream",
     "text": [
      "kava 7.99\n",
      "apelsinai 1.59\n",
      "ananasas 3.57\n",
      "vanduo 0.29\n",
      "gerimas \"vytautas\" 1.05\n"
     ]
    }
   ],
   "source": [
    "for preke in krepselis:\n",
    "    print(preke, krepselis[preke])"
   ]
  },
  {
   "cell_type": "code",
   "execution_count": 55,
   "metadata": {},
   "outputs": [
    {
     "name": "stdout",
     "output_type": "stream",
     "text": [
      "preke: kava |kaina: 7.99\n",
      "preke: apelsinai |kaina: 1.59\n",
      "preke: ananasas |kaina: 3.57\n",
      "preke: vanduo |kaina: 0.29\n",
      "preke: gerimas \"vytautas\" |kaina: 1.05\n"
     ]
    }
   ],
   "source": [
    "for preke in krepselis:\n",
    "    print('preke:', preke, '|kaina:', krepselis[preke])"
   ]
  },
  {
   "cell_type": "code",
   "execution_count": 60,
   "metadata": {},
   "outputs": [
    {
     "name": "stdout",
     "output_type": "stream",
     "text": [
      "7.99\n",
      "9.58\n",
      "13.15\n",
      "13.44\n",
      "14.49\n"
     ]
    }
   ],
   "source": [
    "suma = 0\n",
    "for kaina in krepselis.values():\n",
    "    suma += kaina\n",
    "    print(suma)"
   ]
  },
  {
   "attachments": {},
   "cell_type": "markdown",
   "metadata": {},
   "source": [
    "### Zodynams"
   ]
  },
  {
   "attachments": {},
   "cell_type": "markdown",
   "metadata": {},
   "source": [
    "### Range funkcija"
   ]
  },
  {
   "cell_type": "code",
   "execution_count": 61,
   "metadata": {},
   "outputs": [
    {
     "name": "stdout",
     "output_type": "stream",
     "text": [
      "1\n",
      "2\n",
      "3\n",
      "4\n",
      "5\n",
      "6\n",
      "7\n",
      "8\n",
      "9\n",
      "10\n"
     ]
    }
   ],
   "source": [
    "for skaicius in range(1, 11):\n",
    "    print(skaicius)"
   ]
  },
  {
   "cell_type": "code",
   "execution_count": 64,
   "metadata": {},
   "outputs": [
    {
     "name": "stdout",
     "output_type": "stream",
     "text": [
      "3\n",
      "6\n",
      "9\n",
      "12\n",
      "15\n",
      "18\n",
      "21\n",
      "24\n",
      "27\n",
      "30\n"
     ]
    }
   ],
   "source": [
    "for skaicius in range(3, 31, 3):\n",
    "    print(skaicius)"
   ]
  },
  {
   "cell_type": "code",
   "execution_count": 65,
   "metadata": {},
   "outputs": [
    {
     "name": "stdout",
     "output_type": "stream",
     "text": [
      "4\n",
      "16\n",
      "96\n",
      "768\n",
      "7680\n"
     ]
    }
   ],
   "source": [
    "tarpinis = 2\n",
    "for skaicius in range(2,11,2):\n",
    "    tarpinis *= skaicius\n",
    "    print(tarpinis)"
   ]
  },
  {
   "cell_type": "code",
   "execution_count": 70,
   "metadata": {},
   "outputs": [
    {
     "name": "stdout",
     "output_type": "stream",
     "text": [
      "2018\n",
      "2019\n",
      "2020\n",
      "2021\n"
     ]
    }
   ],
   "source": [
    "for metai in range(2018, 2022):\n",
    "    print(metai)"
   ]
  },
  {
   "cell_type": "code",
   "execution_count": 71,
   "metadata": {},
   "outputs": [
    {
     "name": "stdout",
     "output_type": "stream",
     "text": [
      "-5\n",
      "-4\n",
      "-3\n",
      "-2\n",
      "-1\n",
      "0\n",
      "1\n",
      "2\n",
      "3\n",
      "4\n",
      "5\n"
     ]
    }
   ],
   "source": [
    "for skaicius in range(-5, 6):\n",
    "    print(skaicius)"
   ]
  },
  {
   "cell_type": "code",
   "execution_count": 72,
   "metadata": {},
   "outputs": [
    {
     "name": "stdout",
     "output_type": "stream",
     "text": [
      "2022\n",
      "2021\n",
      "2020\n",
      "2019\n"
     ]
    }
   ],
   "source": [
    "for metai in range(2022, 2018, -1):\n",
    "    print(metai)"
   ]
  },
  {
   "attachments": {},
   "cell_type": "markdown",
   "metadata": {},
   "source": [
    "### While ciklai"
   ]
  },
  {
   "cell_type": "code",
   "execution_count": 74,
   "metadata": {},
   "outputs": [
    {
     "name": "stdout",
     "output_type": "stream",
     "text": [
      "5\n",
      "4\n",
      "3\n",
      "2\n",
      "1\n"
     ]
    }
   ],
   "source": [
    "skaicius = 5\n",
    "while skaicius > 0:\n",
    "    print(skaicius)\n",
    "    skaicius -= 1\n"
   ]
  },
  {
   "cell_type": "code",
   "execution_count": 75,
   "metadata": {},
   "outputs": [
    {
     "name": "stdout",
     "output_type": "stream",
     "text": [
      "skaicius pries padidinima: 0\n",
      "padidintas skaicius 2\n",
      "skaicius pries padidinima: 2\n",
      "padidintas skaicius 4\n",
      "skaicius pries padidinima: 4\n",
      "padidintas skaicius 6\n",
      "skaicius pries padidinima: 6\n",
      "padidintas skaicius 8\n",
      "skaicius pries padidinima: 8\n",
      "padidintas skaicius 10\n"
     ]
    }
   ],
   "source": [
    "skaicius = 0\n",
    "while skaicius < 10:\n",
    "    print('skaicius pries padidinima:' , skaicius)\n",
    "    skaicius += 2\n",
    "    print('padidintas skaicius', skaicius)"
   ]
  },
  {
   "cell_type": "code",
   "execution_count": 81,
   "metadata": {},
   "outputs": [
    {
     "name": "stdout",
     "output_type": "stream",
     "text": [
      "-1\n",
      "0\n",
      "1\n",
      "2\n",
      "3\n",
      "4\n",
      "5\n",
      "6\n",
      "7\n"
     ]
    }
   ],
   "source": [
    "for skaicius in range(-1, 50):\n",
    "    print(skaicius)\n",
    "    ###if skaicius % 7 == 0:\n",
    "        ##break\n",
    "    if skaicius !=0 and skaicius % 7 == 0:\n",
    "        break"
   ]
  },
  {
   "cell_type": "code",
   "execution_count": 82,
   "metadata": {},
   "outputs": [
    {
     "name": "stdout",
     "output_type": "stream",
     "text": [
      "1\n",
      "3\n",
      "5\n",
      "7\n",
      "9\n"
     ]
    }
   ],
   "source": [
    "### spausdina tik tuos kas nedalina is 2\n",
    "for skaicius in range(0, 11):\n",
    "    if skaicius % 2 == 0:\n",
    "        continue\n",
    "    print(skaicius)"
   ]
  },
  {
   "cell_type": "code",
   "execution_count": 85,
   "metadata": {},
   "outputs": [
    {
     "name": "stdout",
     "output_type": "stream",
     "text": [
      "1\n",
      "2\n",
      "3\n",
      "4\n",
      "5\n",
      "6\n",
      "saugiklis ismustas\n"
     ]
    }
   ],
   "source": [
    "saugiklis = 5 \n",
    "for skaicius in range(1, 7):\n",
    "    ## jei range 1,5 tada neismustas\n",
    "    print(skaicius)\n",
    "    if skaicius > saugiklis:\n",
    "        print('saugiklis ismustas')\n",
    "        break\n",
    "else:\n",
    "    print('ciklas sekmingai prasuktas')"
   ]
  },
  {
   "cell_type": "code",
   "execution_count": null,
   "metadata": {},
   "outputs": [],
   "source": []
  }
 ],
 "metadata": {
  "kernelspec": {
   "display_name": "venv",
   "language": "python",
   "name": "python3"
  },
  "language_info": {
   "codemirror_mode": {
    "name": "ipython",
    "version": 3
   },
   "file_extension": ".py",
   "mimetype": "text/x-python",
   "name": "python",
   "nbconvert_exporter": "python",
   "pygments_lexer": "ipython3",
   "version": "3.10.9"
  },
  "orig_nbformat": 4,
  "vscode": {
   "interpreter": {
    "hash": "6595f7d358a244dac90f593860b56a98c7a33cf65bcbd503aef1a7dea40bc1fb"
   }
  }
 },
 "nbformat": 4,
 "nbformat_minor": 2
}
